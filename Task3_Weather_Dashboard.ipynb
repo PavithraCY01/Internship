{
 "cells": [
  {
   "cell_type": "code",
   "execution_count": null,
   "id": "9b3192a2-b96d-4dd4-88c7-be9cf3216822",
   "metadata": {},
   "outputs": [
    {
     "name": "stdout",
     "output_type": "stream",
     "text": [
      "Weather Dashboard\n"
     ]
    },
    {
     "name": "stdin",
     "output_type": "stream",
     "text": [
      "Enter City :  ( or type exit for quit) chennai\n"
     ]
    },
    {
     "name": "stdout",
     "output_type": "stream",
     "text": [
      "Weather in chennai,IN:\n",
      "Temprature: 24.45°C (feels like: 25.25°C)\n",
      "Condition: mist\n",
      "Humidity: 88%\n",
      "Wind speed: 6.17m/s \n",
      "\n"
     ]
    }
   ],
   "source": [
    "import requests\n",
    "print(\"Weather Dashboard\")\n",
    "api_key = \"e0df0d718d7a9c4a781861ef57ea2b25\"\n",
    "base_url = \"http://api.openweathermap.org/data/2.5/weather\"\n",
    "while True:\n",
    "    city = input(\"Enter City :  ( or type exit for quit)\").strip()\n",
    "    if city.lower()==\"exit\":\n",
    "        break\n",
    "    if not city:\n",
    "        print(\"Enter a valid city name\")\n",
    "        continue\n",
    "\n",
    "    params = {\n",
    "        \"q\":city,\n",
    "        \"appid\":api_key,\n",
    "        \"units\": \"metric\"\n",
    "    }\n",
    "    try:\n",
    "        response = requests.get(base_url, params=params)\n",
    "        response.raise_for_status()\n",
    "        data = response.json()\n",
    "        \n",
    "        temp = data[\"main\"][\"temp\"]\n",
    "        feel_like = data[\"main\"][\"feels_like\"]\n",
    "        country_name = data[\"sys\"][\"country\"]\n",
    "        humidity = data [\"main\"][\"humidity\"]\n",
    "        condition = data[\"weather\"][0][\"description\"]\n",
    "        wind_speed = data[\"wind\"][\"speed\"]\n",
    "\n",
    "        print(f\"Weather in {city},{country_name}:\")\n",
    "        print(f\"Temprature: {temp}°C (feels like: {feel_like}°C)\")\n",
    "        print(f\"Condition: {condition}\")\n",
    "        print(f\"Humidity: {humidity}%\")\n",
    "        print(f\"Wind speed: {wind_speed}m/s \\n\")\n",
    "       \n",
    "        \n",
    "    except KeyError:\n",
    "        print(\"Error\")  "
   ]
  },
  {
   "cell_type": "code",
   "execution_count": null,
   "id": "e3c594a0-c09f-4b5a-bd98-6b3e49f02c6c",
   "metadata": {},
   "outputs": [],
   "source": []
  }
 ],
 "metadata": {
  "kernelspec": {
   "display_name": "Python 3 (ipykernel)",
   "language": "python",
   "name": "python3"
  },
  "language_info": {
   "codemirror_mode": {
    "name": "ipython",
    "version": 3
   },
   "file_extension": ".py",
   "mimetype": "text/x-python",
   "name": "python",
   "nbconvert_exporter": "python",
   "pygments_lexer": "ipython3",
   "version": "3.12.7"
  }
 },
 "nbformat": 4,
 "nbformat_minor": 5
}
